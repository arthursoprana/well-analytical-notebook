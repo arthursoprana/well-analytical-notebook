{
 "cells": [
  {
   "cell_type": "code",
   "execution_count": 54,
   "metadata": {
    "collapsed": true
   },
   "outputs": [],
   "source": [
    "import numpy as np\n",
    "from scipy import integrate\n",
    "from mpl_toolkits.mplot3d import Axes3D\n",
    "import matplotlib.pyplot as plt"
   ]
  },
  {
   "cell_type": "code",
   "execution_count": 90,
   "metadata": {
    "collapsed": false
   },
   "outputs": [],
   "source": [
    "def iplscr(x_d, x_d0, t_d, n=9):\n",
    "    \n",
    "    _sum = 0.0\n",
    "    t_critical = 1.0 / (4.0 * np.pi)\n",
    "\n",
    "    if t_d <= t_critical:    \n",
    "        for i in xrange(-n, n):    \n",
    "            a = x_d - 2*i\n",
    "            b = 4.0 * t_d      \n",
    "            _sum = _sum + np.exp(-(a - x_d0) ** 2 / b) + np.exp(-(a + x_d0) ** 2 / b)\n",
    "            \n",
    "        val = 1.0 / np.sqrt(4.0 * np.pi * t_d) * _sum\n",
    "    elif t_d > t_critical:\n",
    "\n",
    "        for i in xrange(1, n):\n",
    "            a = i*np.pi\n",
    "            _sum = _sum + np.exp(-t_d*a ** 2)*np.cos(a*x_d)*np.cos(a*x_d0)\n",
    "\n",
    "            val = 1.0 + 2.0 * _sum\n",
    "    \n",
    "    return val\n",
    " "
   ]
  },
  {
   "cell_type": "code",
   "execution_count": 91,
   "metadata": {
    "collapsed": false
   },
   "outputs": [
    {
     "name": "stdout",
     "output_type": "stream",
     "text": [
      "1.00009838335\n"
     ]
    }
   ],
   "source": [
    "print iplscr(0.0, 0.1, 1.0)"
   ]
  },
  {
   "cell_type": "code",
   "execution_count": 57,
   "metadata": {
    "collapsed": true
   },
   "outputs": [],
   "source": [
    "def ipscr(x_d, y_d, z_d, x_d0, y_d0, z_d0, t_d, x_de, y_de, z_de):\n",
    "    x  = x_d / x_de\n",
    "    x0 = x_d0 / x_de\n",
    "    y  = y_d / y_de\n",
    "    y0 = y_d0 / y_de\n",
    "    z  = z_d / z_de\n",
    "    z0 = z_d0 / z_de\n",
    "    tx = t_d / (x_de * x_de)\n",
    "    ty = t_d / (y_de * y_de)\n",
    "    tz = t_d / (z_de * z_de)\n",
    "\n",
    "    temp1 = iplscr(x, x0, tx)\n",
    "    temp2 = iplscr(y, y0, ty)\n",
    "    temp3 = iplscr(z, z0, tz)\n",
    "\n",
    "    return temp1 * temp2 * temp3 / (x_de * y_de * z_de)"
   ]
  },
  {
   "cell_type": "code",
   "execution_count": 58,
   "metadata": {
    "collapsed": false
   },
   "outputs": [
    {
     "name": "stdout",
     "output_type": "stream",
     "text": [
      "1.00029517908\n"
     ]
    }
   ],
   "source": [
    "x_d, y_d, z_d, x_d0, y_d0, z_d0, t_d, x_de, y_de, z_de = 0.0, 0.0, 0.0, 0.1, 0.1, 0.1, 1.0, 1.0, 1.0, 1.0\n",
    "print ipscr(x_d, y_d, z_d, x_d0, y_d0, z_d0, t_d, x_de, y_de, z_de)"
   ]
  },
  {
   "cell_type": "code",
   "execution_count": 163,
   "metadata": {
    "collapsed": true
   },
   "outputs": [],
   "source": [
    "def cpsrc(x_d, y_d, z_d, x_d0, y_d0, z_d0, t_d, t_0, x_de, y_de, z_de):\n",
    "    a = t_0\n",
    "    b = t_d\n",
    "    \n",
    "    def func(x):\n",
    "        t_dvar = x\n",
    "        return ipscr(x_d, y_d, z_d, x_d0, y_d0, z_d0, t_dvar, x_de, y_de, z_de)\n",
    "\n",
    "    y, err = integrate.quad(func=func, a=a, b=b)\n",
    "    return y"
   ]
  },
  {
   "cell_type": "code",
   "execution_count": 60,
   "metadata": {
    "collapsed": false
   },
   "outputs": [
    {
     "name": "stdout",
     "output_type": "stream",
     "text": [
      "3.77731926114\n"
     ]
    }
   ],
   "source": [
    "x_d, y_d, z_d = 0.0, 0.0, 0.0\n",
    "x_d0, y_d0, z_d0 = 0.1, 0.1, 0.1\n",
    "t_0, t_d = 0.00000001, 1.0\n",
    "x_de, y_de, z_de = 1.0, 1.0, 1.0\n",
    "\n",
    "print cpsrc(x_d, y_d, z_d, x_d0, y_d0, z_d0, t_d, t_0, x_de, y_de, z_de)"
   ]
  },
  {
   "cell_type": "code",
   "execution_count": 171,
   "metadata": {
    "collapsed": true
   },
   "outputs": [],
   "source": [
    "def clsrc(x_d, y_d, z_d, x_d0, y_d0, z_d0, x_d1, y_d1, z_d1, x_de, y_de, z_de, t_0, t_d):\n",
    "    # Curve Definition\n",
    "    def well_curve(alpha, x_d0, y_d0, z_d0, x_d1, y_d1, z_d1):\n",
    "        deltaX = (x_d1 - x_d0)\n",
    "        deltaY = (y_d1 - y_d0)\n",
    "        deltaZ = (z_d1 - z_d0)\n",
    "        x = x_d0 + alpha * deltaX\n",
    "        y = y_d0 + alpha * deltaY\n",
    "        z = z_d0 + alpha * deltaZ \n",
    "        return x, y, z    \n",
    "    \n",
    "    L = np.sqrt( (x_d1-x_d0) ** 2 + (y_d1-y_d0) ** 2 + (z_d1-z_d0) ** 2 )\n",
    "    X = np.sqrt( (x_d-x_d0) ** 2  + (y_d-y_d0) ** 2  + (z_d-z_d0) ** 2  )\n",
    "    cos_beta = ((x_d-x_d0)*(x_d1-x_d0) + (y_d-y_d0)*(y_d1-y_d0) + (z_d-z_d0)*(z_d1-z_d0)) / (L * X)\n",
    "\n",
    "    I = 1.0 / (4.0 * np.pi * L) * np.log( (1.0 - (X / L) * cos_beta \\\n",
    "        + np.sqrt((X / L) ** 2 - 2.0 * (X / L) * cos_beta + 1.0)) / ((X / L) * (1.0 - cos_beta)))\n",
    "\n",
    "    # Integrate along X\n",
    "    def func(x):\n",
    "        alpha = x\n",
    "        xe, ye, ze = well_curve(alpha, x_d0, y_d0, z_d0, x_d1, y_d1, z_d1)\n",
    "        l = np.sqrt((xe - x_d0)**2 + (ye - y_d0)**2 + (ze - z_d0)**2)\n",
    "        r_d = np.sqrt(X**2 + l**2 - 2.0*X*l*cos_beta)\n",
    "\n",
    "        return cpsrc(x_d, y_d, z_d, xe, ye, ze, t_d, t_0, x_de, y_de, z_de) - 1.0/(4.0 * np.pi * r_d)\n",
    "\n",
    "    #y = integrate.romberg(function=func, a=0.0, b=1.0)\n",
    "    #y, err = integrate.fixed_quad(func=func, a=0.0, b=1.0)\n",
    "    y, err = integrate.quad(func=func, a=0.0, b=1.0)\n",
    "    return y / L + I"
   ]
  },
  {
   "cell_type": "code",
   "execution_count": 108,
   "metadata": {
    "collapsed": false
   },
   "outputs": [],
   "source": [
    "x_d, y_d, z_d = 0.0, 0.0, 0.0\n",
    "x_d0, y_d0, z_d0 = 0.1, 0.1, 0.1\n",
    "x_d1, y_d1, z_d1 = 0.5, 0.5, 0.5\n",
    "t_0, t_d = 0.00000001, 1.0\n",
    "x_de, y_de, z_de = 1.0, 1.0, 1.0\n",
    "r_d = 0.15\n",
    "\n",
    "#print clsrc(x_d, y_d, z_d, x_d0, y_d0, z_d0, x_d1, y_d1, z_d1, x_de, y_de, z_de, t_0, t_d, r_d)"
   ]
  },
  {
   "cell_type": "code",
   "execution_count": 161,
   "metadata": {
    "collapsed": true
   },
   "outputs": [],
   "source": [
    "# Parameters Definition\n",
    "x_e, y_e, z_e = 900., 900.0, 300.0\n",
    "\n",
    "k_x, k_y, k_z = 2000., 2000., 500.\n",
    "c_t = 7.7e-5\n",
    "B_o = 1.0\n",
    "phi = 0.2\n",
    "mu  = 1.0\n",
    "P_i = 6000.\n",
    "\n",
    "x_0, y_0, z_0 = 400., 450., 150.\n",
    "x_1, y_1, z_1 = 500., 450., 150.\n",
    "\n",
    "r_w = 0.125\n",
    "t_0, t_d = 0.000000000001, 1.0\n",
    "\n",
    "r_dw = r_w / x_e\n",
    "x_d0, y_d0, z_d0 = x_0 / x_e, y_0 / x_e, z_0 / x_e\n",
    "x_d1, y_d1, z_d1 = x_1 / x_e, y_1 / x_e, z_1 / x_e\n",
    "\n",
    "\n",
    "x_de, y_de, z_de = x_e / x_e, y_e / x_e, z_e / x_e \n",
    "x_d, y_d, z_d = 0.0, 0.0, z_d0"
   ]
  },
  {
   "cell_type": "code",
   "execution_count": 70,
   "metadata": {
    "collapsed": false
   },
   "outputs": [],
   "source": [
    "# Parameters Definition\n",
    "x_e, y_e, z_e = 900., 900.0, 300.0\n",
    "\n",
    "k_x, k_y, k_z = 2000., 2000., 500.\n",
    "c_t = 7.7e-5\n",
    "B_o = 1.0\n",
    "phi = 0.2\n",
    "mu  = 1.0\n",
    "P_i = 6000.\n",
    "\n",
    "x_0, y_0, z_0 = 400., 450., 150.\n",
    "x_1, y_1, z_1 = 500., 450., 150.\n",
    "\n",
    "r_w = 0.125\n",
    "t_0, t_d = 0.000000000001, 1.0\n",
    "\n",
    "r_dw = r_w / x_e\n",
    "x_d0, y_d0, z_d0 = x_0 / x_e, y_0 / x_e, z_0 / x_e\n",
    "x_d1, y_d1, z_d1 = x_1 / x_e, y_1 / x_e, z_1 / x_e\n",
    "\n",
    "\n",
    "x_de, y_de, z_de = x_e / x_e, y_e / x_e, z_e / x_e \n",
    "\n",
    "\n",
    "n_points = 2\n",
    "\n",
    "t = 10.0\n",
    "\n",
    "x_points = np.linspace(0.0, x_de, num=n_points)\n",
    "y_points = np.linspace(0.0, y_de, num=n_points)\n",
    "\n",
    "x_d, y_d, z_d = 0.0, 0.0, z_d0\n",
    "\n",
    "\n",
    "P_d = np.zeros([n_points, n_points])\n",
    "\n",
    "for i, x in enumerate(x_points):\n",
    "    for j, y in enumerate(y_points):\n",
    "        P_d[i,j] = clsrc(x, y, z_d, x_d0, y_d0, z_d0, x_d1, y_d1, z_d1, x_de, y_de, z_de, t_0, t_d)\n",
    "\n",
    "fig = plt.figure()\n",
    "\n",
    "X, Y = np.meshgrid(x_points, y_points)\n",
    "plt.contourf(X, Y, P_d)\n",
    "\n",
    "plt.show()"
   ]
  },
  {
   "cell_type": "code",
   "execution_count": 82,
   "metadata": {
    "collapsed": false
   },
   "outputs": [
    {
     "name": "stdout",
     "output_type": "stream",
     "text": [
      "2.61146789706\n"
     ]
    }
   ],
   "source": [
    "print iplscr(x_d=0.5, x_d0=x_d0, t_d=0.01)"
   ]
  },
  {
   "cell_type": "code",
   "execution_count": 72,
   "metadata": {
    "collapsed": false
   },
   "outputs": [
    {
     "data": {
      "text/plain": [
       "21.213179988388898"
      ]
     },
     "execution_count": 72,
     "metadata": {},
     "output_type": "execute_result"
    }
   ],
   "source": [
    "clsrc(0.0, 0.0, z_d, x_d0, y_d0, z_d0, x_d1, y_d1, z_d1, x_de, y_de, z_de, t_0, t_d)"
   ]
  },
  {
   "cell_type": "code",
   "execution_count": 83,
   "metadata": {
    "collapsed": false
   },
   "outputs": [
    {
     "data": {
      "text/plain": [
       "23.366252983747682"
      ]
     },
     "execution_count": 83,
     "metadata": {},
     "output_type": "execute_result"
    }
   ],
   "source": [
    "ipscr(0.5, 0.5, z_d, x_d0, y_d0, z_d0, 0.01, x_de, y_de, z_de)"
   ]
  },
  {
   "cell_type": "code",
   "execution_count": 119,
   "metadata": {
    "collapsed": false
   },
   "outputs": [
    {
     "data": {
      "text/plain": [
       "0.19411408781926248"
      ]
     },
     "execution_count": 119,
     "metadata": {},
     "output_type": "execute_result"
    }
   ],
   "source": [
    "cpsrc(0.5, 0.5, z_d, x_d0, y_d0, z_d0, 0.01, t_0, x_de, y_de, z_de)"
   ]
  },
  {
   "cell_type": "code",
   "execution_count": 170,
   "metadata": {
    "collapsed": false
   },
   "outputs": [
    {
     "name": "stdout",
     "output_type": "stream",
     "text": [
      "0.707106781187\n",
      "0.669941439335\n",
      "0.746346681269\n",
      "0.673981156155\n",
      "0.741868418728\n",
      "0.680940311039\n",
      "0.734281730149\n",
      "0.69029139149\n",
      "0.724332278003\n",
      "0.701282831293\n",
      "0.712979103962\n",
      "0.669137791111\n",
      "0.747244241974\n",
      "0.671561562667\n",
      "0.74454399791\n",
      "0.677128462299\n",
      "0.738417551005\n",
      "0.685356236036\n",
      "0.729548998212\n",
      "0.695638075574\n",
      "0.718764669601\n"
     ]
    },
    {
     "data": {
      "text/plain": [
       "-0.90077313799981074"
      ]
     },
     "execution_count": 170,
     "metadata": {},
     "output_type": "execute_result"
    }
   ],
   "source": [
    "clsrc(0.0, 0.0, z_d, x_d0, y_d0, z_d0, x_d1, y_d1, z_d1, x_de, y_de, z_de, t_0, 0.01)"
   ]
  },
  {
   "cell_type": "code",
   "execution_count": 127,
   "metadata": {
    "collapsed": false
   },
   "outputs": [
    {
     "data": {
      "text/plain": [
       "0.0001388888888888889"
      ]
     },
     "execution_count": 127,
     "metadata": {},
     "output_type": "execute_result"
    }
   ],
   "source": [
    "r_dw"
   ]
  },
  {
   "cell_type": "code",
   "execution_count": 153,
   "metadata": {
    "collapsed": false
   },
   "outputs": [
    {
     "data": {
      "text/plain": [
       "0.15"
      ]
     },
     "execution_count": 153,
     "metadata": {},
     "output_type": "execute_result"
    }
   ],
   "source": [
    "r_d"
   ]
  },
  {
   "cell_type": "code",
   "execution_count": 141,
   "metadata": {
    "collapsed": false
   },
   "outputs": [
    {
     "data": {
      "text/plain": [
       "0.16666666666666666"
      ]
     },
     "execution_count": 141,
     "metadata": {},
     "output_type": "execute_result"
    }
   ],
   "source": [
    "z_d0"
   ]
  },
  {
   "cell_type": "code",
   "execution_count": 142,
   "metadata": {
    "collapsed": false
   },
   "outputs": [
    {
     "data": {
      "text/plain": [
       "0.0"
      ]
     },
     "execution_count": 142,
     "metadata": {},
     "output_type": "execute_result"
    }
   ],
   "source": [
    "z_d"
   ]
  },
  {
   "cell_type": "code",
   "execution_count": 148,
   "metadata": {
    "collapsed": false
   },
   "outputs": [
    {
     "data": {
      "text/plain": [
       "0.15"
      ]
     },
     "execution_count": 148,
     "metadata": {},
     "output_type": "execute_result"
    }
   ],
   "source": [
    "r_d"
   ]
  },
  {
   "cell_type": "code",
   "execution_count": null,
   "metadata": {
    "collapsed": true
   },
   "outputs": [],
   "source": []
  }
 ],
 "metadata": {
  "kernelspec": {
   "display_name": "Python 2",
   "language": "python",
   "name": "python2"
  },
  "language_info": {
   "codemirror_mode": {
    "name": "ipython",
    "version": 2
   },
   "file_extension": ".py",
   "mimetype": "text/x-python",
   "name": "python",
   "nbconvert_exporter": "python",
   "pygments_lexer": "ipython2",
   "version": "2.7.10"
  }
 },
 "nbformat": 4,
 "nbformat_minor": 0
}
